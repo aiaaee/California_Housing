{
  "cells": [
    {
      "cell_type": "markdown",
      "metadata": {
        "id": "view-in-github",
        "colab_type": "text"
      },
      "source": [
        "<a href=\"https://colab.research.google.com/github/aiaaee/California_Housing/blob/main/CaliforniaHousing.ipynb\" target=\"_parent\"><img src=\"https://colab.research.google.com/assets/colab-badge.svg\" alt=\"Open In Colab\"/></a>"
      ]
    },
    {
      "cell_type": "code",
      "execution_count": null,
      "metadata": {
        "id": "D2sE0Uiiyljx"
      },
      "outputs": [],
      "source": [
        "import torch\n",
        "import pandas as pd\n",
        "import torch.nn as nn\n",
        "import torch.nn.functional as f\n",
        "from torch.utils.data import Dataset , DataLoader\n",
        "import torch.optim as optim\n",
        "from sklearn.datasets import fetch_california_housing\n",
        "from sklearn.model_selection import train_test_split\n",
        "from sklearn.preprocessing import StandardScaler\n",
        "from torchvision import transforms\n",
        "from tqdm import tqdm"
      ]
    },
    {
      "cell_type": "code",
      "execution_count": null,
      "metadata": {
        "id": "lYpZoY-q1iKe"
      },
      "outputs": [],
      "source": [
        "device = torch.device(\"cuda\" if torch.cuda.is_available() else \"cpu\")"
      ]
    },
    {
      "cell_type": "code",
      "execution_count": null,
      "metadata": {
        "id": "D2tFM3Xi--mo"
      },
      "outputs": [],
      "source": [
        "data = fetch_california_housing()\n",
        "# In dataset as_frame is false . it means that we need to create Dataset and do data and target combination\n",
        "X, y = data.data, data.target\n",
        "\n",
        "X_train, X_test, y_train, y_test = train_test_split(X, y, test_size=0.2, random_state=42)\n",
        "\n",
        "# Standardize the features\n",
        "scaler = StandardScaler()\n",
        "X_train = scaler.fit_transform(X_train)\n",
        "X_test = scaler.transform(X_test)\n"
      ]
    },
    {
      "cell_type": "code",
      "execution_count": null,
      "metadata": {
        "colab": {
          "base_uri": "https://localhost:8080/"
        },
        "id": "ljmQMXKwDGZY",
        "outputId": "e98bb04e-46ae-48b9-90a6-985c53787971"
      },
      "outputs": [
        {
          "name": "stdout",
          "output_type": "stream",
          "text": [
            "(16512, 8) (16512,)\n",
            "(4128, 8) (4128,)\n"
          ]
        }
      ],
      "source": [
        "print(X_train.shape , y_train.shape)\n",
        "print(X_test.shape , y_test.shape)"
      ]
    },
    {
      "cell_type": "code",
      "execution_count": null,
      "metadata": {
        "colab": {
          "base_uri": "https://localhost:8080/"
        },
        "id": "lruTIt2bG_uv",
        "outputId": "afc5b388-8914-4b82-8354-6aefe19e5fcd"
      },
      "outputs": [
        {
          "data": {
            "text/plain": [
              "array([[-0.326196  ,  0.34849025, -0.17491646, ...,  0.05137609,\n",
              "        -1.3728112 ,  1.27258656],\n",
              "       [-0.03584338,  1.61811813, -0.40283542, ..., -0.11736222,\n",
              "        -0.87669601,  0.70916212],\n",
              "       [ 0.14470145, -1.95271028,  0.08821601, ..., -0.03227969,\n",
              "        -0.46014647, -0.44760309],\n",
              "       ...,\n",
              "       [-0.49697313,  0.58654547, -0.60675918, ...,  0.02030568,\n",
              "        -0.75500738,  0.59946887],\n",
              "       [ 0.96545045, -1.07984112,  0.40217517, ...,  0.00707608,\n",
              "         0.90651045, -1.18553953],\n",
              "       [-0.68544764,  1.85617335, -0.85144571, ..., -0.08535429,\n",
              "         0.99543676, -1.41489815]])"
            ]
          },
          "execution_count": 5,
          "metadata": {},
          "output_type": "execute_result"
        }
      ],
      "source": [
        "X_train"
      ]
    },
    {
      "cell_type": "code",
      "execution_count": null,
      "metadata": {
        "id": "XUYhnB5YDOSd"
      },
      "outputs": [],
      "source": [
        "# Create a custom PyTorch dataset\n",
        "\n",
        "toTensorTransform = transforms.Lambda(lambda x: torch.tensor(x, dtype=torch.float32))\n",
        "class CaliforniaHousingDataset(Dataset):\n",
        "    def __init__(self, features, targets, transform=None, target_transform=None):\n",
        "        self.features = features\n",
        "        self.targets = targets\n",
        "        self.transform = transform\n",
        "        self.target_transform = target_transform\n",
        "\n",
        "    def __len__(self):\n",
        "        return len(self.features)\n",
        "\n",
        "    def __getitem__(self, index):\n",
        "        x = self.features[index]\n",
        "        y = self.targets[index]\n",
        "        if self.transform:\n",
        "            x = self.transform(x)\n",
        "        if self.target_transform:\n",
        "            y = self.target_transform(y)\n",
        "        return x, y"
      ]
    },
    {
      "cell_type": "code",
      "execution_count": null,
      "metadata": {
        "id": "1qoNQVtEDtZa"
      },
      "outputs": [],
      "source": [
        "# Create instances of the custom dataset\n",
        "train_dataset = CaliforniaHousingDataset(X_train, y_train, transform=toTensorTransform,\n",
        "                                         target_transform=transforms.Lambda(lambda x: torch.tensor(x, dtype=torch.float32).unsqueeze(0)))\n",
        "\n",
        "test_dataset = CaliforniaHousingDataset(X_test, y_test, transform=toTensorTransform,\n",
        "                                        target_transform=transforms.Lambda(lambda x: torch.tensor(x, dtype=torch.float32).unsqueeze(0)))\n",
        "\n",
        "# Create PyTorch data loaders\n",
        "train_loader = DataLoader(train_dataset, batch_size=64, shuffle=True)\n",
        "test_loader = DataLoader(test_dataset, batch_size=64, shuffle=False)\n"
      ]
    },
    {
      "cell_type": "code",
      "execution_count": null,
      "metadata": {
        "colab": {
          "base_uri": "https://localhost:8080/"
        },
        "id": "l0TliIY9Fvp9",
        "outputId": "a34cd4b2-714f-4493-a097-15ee8f3b5424"
      },
      "outputs": [
        {
          "name": "stdout",
          "output_type": "stream",
          "text": [
            "torch.Size([64, 1])\n"
          ]
        }
      ],
      "source": [
        "for data, target in train_loader:\n",
        "    print(target.size())\n",
        "    break"
      ]
    },
    {
      "cell_type": "code",
      "execution_count": 71,
      "metadata": {
        "id": "cPZY_RX7N2Ui"
      },
      "outputs": [],
      "source": [
        "class NeuralNet(nn.Module):\n",
        "  def __init__(self , input_feature , hidden_feature , output_feature , *args , **kwargs ):\n",
        "    super().__init__(*args , **kwargs )\n",
        "    self.flatten = nn.Flatten()\n",
        "    self.fc1 = nn.Linear(input_feature , hidden_feature)\n",
        "    self.r1 = nn.GELU()\n",
        "    self.fc2 = nn.Linear(hidden_feature , hidden_feature)\n",
        "    self.r2 = nn.GELU()\n",
        "    self.fc3 = nn.Linear(hidden_feature , output_feature)\n",
        "    self.r3 = nn.GELU()\n",
        "\n",
        "\n",
        "  def forward(self , x ):\n",
        "      output = self.flatten(x)\n",
        "      output = self.r1(self.fc1(x))\n",
        "      output = self.r2(self.fc2(output))\n",
        "      return self.r3(self.fc3(output))\n"
      ]
    },
    {
      "cell_type": "code",
      "execution_count": 72,
      "metadata": {
        "colab": {
          "base_uri": "https://localhost:8080/"
        },
        "id": "01bcM0TBPhrB",
        "outputId": "2ba4417b-0d03-4654-e899-7017c8802ae4"
      },
      "outputs": [
        {
          "output_type": "execute_result",
          "data": {
            "text/plain": [
              "NeuralNet(\n",
              "  (flatten): Flatten(start_dim=1, end_dim=-1)\n",
              "  (fc1): Linear(in_features=8, out_features=200, bias=True)\n",
              "  (r1): GELU(approximate='none')\n",
              "  (fc2): Linear(in_features=200, out_features=200, bias=True)\n",
              "  (r2): GELU(approximate='none')\n",
              "  (fc3): Linear(in_features=200, out_features=1, bias=True)\n",
              "  (r3): GELU(approximate='none')\n",
              ")"
            ]
          },
          "metadata": {},
          "execution_count": 72
        }
      ],
      "source": [
        "model = NeuralNet(8 , 200 , 1 )\n",
        "model"
      ]
    },
    {
      "cell_type": "code",
      "execution_count": 73,
      "metadata": {
        "id": "lb-ZTKy4sB8P"
      },
      "outputs": [],
      "source": [
        "criterion = nn.MSELoss()\n",
        "optimizer = optim.Adam(model.parameters() , lr=1e-3)"
      ]
    },
    {
      "cell_type": "code",
      "execution_count": 74,
      "metadata": {
        "colab": {
          "base_uri": "https://localhost:8080/"
        },
        "id": "BMk8bYjZs5Ju",
        "outputId": "3074a8ef-7433-45ef-80ba-e25192cb4b6f"
      },
      "outputs": [
        {
          "output_type": "stream",
          "name": "stderr",
          "text": []
        },
        {
          "output_type": "stream",
          "name": "stdout",
          "text": [
            "Epoch [10/30]: loss train: 0.308, validation: 0.314\n"
          ]
        },
        {
          "output_type": "stream",
          "name": "stderr",
          "text": []
        },
        {
          "output_type": "stream",
          "name": "stdout",
          "text": [
            "Epoch [20/30]: loss train: 0.285, validation: 0.295\n"
          ]
        },
        {
          "output_type": "stream",
          "name": "stderr",
          "text": []
        },
        {
          "output_type": "stream",
          "name": "stdout",
          "text": [
            "Epoch [30/30]: loss train: 0.270, validation: 0.292\n"
          ]
        }
      ],
      "source": [
        "train_history = []\n",
        "validation_history = []\n",
        "num_epochs = 30\n",
        "for epoch in range(num_epochs):\n",
        "\n",
        "    model.train()\n",
        "    losses = []\n",
        "\n",
        "    with tqdm(train_loader, leave=False) as bar:\n",
        "        bar.set_description(f\"[Epoch: {epoch + 1}/{num_epochs}]\")\n",
        "\n",
        "        for batch_idx, (data, target) in enumerate(bar):\n",
        "\n",
        "            data = data.to(device)\n",
        "            target = target.to(device)\n",
        "\n",
        "            output = model(data)\n",
        "\n",
        "            loss = criterion(output, target)\n",
        "\n",
        "            optimizer.zero_grad()\n",
        "            loss.backward()\n",
        "            optimizer.step()\n",
        "\n",
        "            losses.append(loss.item())\n",
        "            bar.set_postfix(avg_epoch_loss=f\"{sum(losses)/len(losses):.4f}\")\n",
        "    train_history.append(sum(losses)/len(losses))\n",
        "\n",
        "    model.eval()\n",
        "    running_testloss = 0.0\n",
        "\n",
        "    with torch.no_grad():\n",
        "        for i, (test_data, test_label) in enumerate(test_loader):\n",
        "            test_output = model(test_data)\n",
        "            vloss = criterion(test_output, test_label)\n",
        "            running_testloss += vloss.item()\n",
        "        avg_vloss = running_testloss / (i + 1)\n",
        "        validation_history.append(avg_vloss)\n",
        "        if epoch % 10 == 9:\n",
        "            print(f'Epoch [{epoch + 1}/{num_epochs}]: loss train: {sum(losses)/len(losses):.3f}, validation: {avg_vloss:.3f}')"
      ]
    },
    {
      "cell_type": "code",
      "source": [
        "import matplotlib.pyplot as plt\n",
        "\n",
        "fig, ax = plt.subplots(figsize=(8, 5))\n",
        "ax.plot(train_history, label=\"train_loss\")\n",
        "ax.plot(validation_history, label=\"validation_loss\")\n",
        "ax.set_title(\"train vs validation loss\")\n",
        "ax.set_ylabel('Loss')\n",
        "ax.set_xlabel('epochs')\n",
        "ax.grid()\n",
        "ax.legend(loc='upper right')"
      ],
      "metadata": {
        "colab": {
          "base_uri": "https://localhost:8080/",
          "height": 505
        },
        "id": "NKwbLdTzvKPF",
        "outputId": "786eb6d3-4be8-4281-ff57-38d23da61c2a"
      },
      "execution_count": 75,
      "outputs": [
        {
          "output_type": "execute_result",
          "data": {
            "text/plain": [
              "<matplotlib.legend.Legend at 0x7956fc9b5000>"
            ]
          },
          "metadata": {},
          "execution_count": 75
        },
        {
          "output_type": "display_data",
          "data": {
            "text/plain": [
              "<Figure size 800x500 with 1 Axes>"
            ],
            "image/png": "[encoded data removed]"
          },
          "metadata": {}
        }
      ]
    }
  ],
  "metadata": {
    "colab": {
      "provenance": [],
      "authorship_tag": "ABX9TyP0jVqjE9LJHIWATr76nFRJ",
      "include_colab_link": true
    },
    "kernelspec": {
      "display_name": "Python 3",
      "name": "python3"
    },
    "language_info": {
      "name": "python"
    }
  },
  "nbformat": 4,
  "nbformat_minor": 0
}